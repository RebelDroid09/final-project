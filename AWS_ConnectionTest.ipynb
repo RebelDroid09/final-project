{
 "cells": [
  {
   "cell_type": "code",
   "execution_count": 1,
   "metadata": {},
   "outputs": [],
   "source": [
    "%matplotlib inline\n",
    "import config\n",
    "import psycopg2\n",
    "import pandas as pd\n",
    "import numpy as np\n",
    "import matplotlib.pyplot as plt\n",
    "import seaborn as sns"
   ]
  },
  {
   "cell_type": "code",
   "execution_count": 2,
   "metadata": {},
   "outputs": [],
   "source": [
    "conn = psycopg2.connect(\n",
    "    host=config.HOST,\n",
    "    database=config.DATABASE,\n",
    "    user=config.USER,\n",
    "    password=config.PASSWORD,\n",
    "    port=config.PORT)"
   ]
  },
  {
   "cell_type": "code",
   "execution_count": 3,
   "metadata": {},
   "outputs": [
    {
     "name": "stdout",
     "output_type": "stream",
     "text": [
      "PostgreSQL database version:\n"
     ]
    }
   ],
   "source": [
    "cur = conn.cursor()\n",
    "\n",
    "print('PostgreSQL database version:')\n",
    "cur.execute('SELECT version()')"
   ]
  },
  {
   "cell_type": "code",
   "execution_count": 4,
   "metadata": {},
   "outputs": [
    {
     "name": "stdout",
     "output_type": "stream",
     "text": [
      "('PostgreSQL 12.5 on x86_64-pc-linux-gnu, compiled by gcc (GCC) 4.8.3 20140911 (Red Hat 4.8.3-9), 64-bit',)\n"
     ]
    }
   ],
   "source": [
    "db_version = cur.fetchone()\n",
    "print(db_version)"
   ]
  },
  {
   "cell_type": "code",
   "execution_count": 5,
   "metadata": {},
   "outputs": [],
   "source": [
    "sqlQuery = 'SELECT d.ranking, d.countryorregion, d.score, d.perceptionofcorruption, cpi.cpi_score, cpi.rank FROM data_2019 as d INNER JOIN \"countryCPI\" as cpi ON d.countryorregion = cpi.country WHERE cpi.year = 2019'"
   ]
  },
  {
   "cell_type": "code",
   "execution_count": 6,
   "metadata": {},
   "outputs": [],
   "source": [
    "cur.execute(sqlQuery)"
   ]
  },
  {
   "cell_type": "code",
   "execution_count": 7,
   "metadata": {},
   "outputs": [],
   "source": [
    "data = cur.fetchall()"
   ]
  },
  {
   "cell_type": "code",
   "execution_count": 8,
   "metadata": {},
   "outputs": [],
   "source": [
    "framedData = pd.DataFrame(np.array(data))"
   ]
  },
  {
   "cell_type": "code",
   "execution_count": 9,
   "metadata": {},
   "outputs": [],
   "source": [
    "conn.close()"
   ]
  },
  {
   "cell_type": "code",
   "execution_count": 10,
   "metadata": {},
   "outputs": [
    {
     "name": "stdout",
     "output_type": "stream",
     "text": [
      "       0            1      2      3   4    5\n",
      "0      2      Denmark    7.6   0.41  87    1\n",
      "1      8  New Zealand  7.307   0.38  87    1\n",
      "2      1      Finland  7.769  0.393  86    3\n",
      "3     34    Singapore  6.262  0.453  85    4\n",
      "4      7       Sweden  7.343  0.373  85    4\n",
      "..   ...          ...    ...    ...  ..  ...\n",
      "142  108    Venezuela  4.707  0.047  16  173\n",
      "143  151        Yemen   3.38  0.077  15  177\n",
      "144  149        Syria  3.462  0.141  13  178\n",
      "145  112      Somalia  4.668   0.27   9  180\n",
      "146  156  South Sudan  2.853  0.091  12  179\n",
      "\n",
      "[147 rows x 6 columns]\n"
     ]
    }
   ],
   "source": [
    "print(framedData)"
   ]
  },
  {
   "cell_type": "code",
   "execution_count": 11,
   "metadata": {},
   "outputs": [],
   "source": [
    "framedData.columns = ['Happiness Ranking', 'Country', 'Happiness Score', 'Corruption Perception Score', 'CPI Score', 'CPI Ranking']"
   ]
  },
  {
   "cell_type": "code",
   "execution_count": 12,
   "metadata": {},
   "outputs": [
    {
     "name": "stdout",
     "output_type": "stream",
     "text": [
      "  Happiness Ranking      Country Happiness Score Corruption Perception Score  \\\n",
      "0                 2      Denmark             7.6                        0.41   \n",
      "1                 8  New Zealand           7.307                        0.38   \n",
      "2                 1      Finland           7.769                       0.393   \n",
      "3                34    Singapore           6.262                       0.453   \n",
      "4                 7       Sweden           7.343                       0.373   \n",
      "\n",
      "  CPI Score CPI Ranking  \n",
      "0        87           1  \n",
      "1        87           1  \n",
      "2        86           3  \n",
      "3        85           4  \n",
      "4        85           4  \n"
     ]
    }
   ],
   "source": [
    "print(framedData.head())"
   ]
  },
  {
   "cell_type": "code",
   "execution_count": 13,
   "metadata": {},
   "outputs": [
    {
     "data": {
      "text/plain": [
       "Happiness Ranking              object\n",
       "Country                        object\n",
       "Happiness Score                object\n",
       "Corruption Perception Score    object\n",
       "CPI Score                      object\n",
       "CPI Ranking                    object\n",
       "dtype: object"
      ]
     },
     "execution_count": 13,
     "metadata": {},
     "output_type": "execute_result"
    }
   ],
   "source": [
    "framedData.dtypes"
   ]
  },
  {
   "cell_type": "code",
   "execution_count": 14,
   "metadata": {},
   "outputs": [],
   "source": [
    "framedData['Happiness Ranking'] = pd.to_numeric(framedData['Happiness Ranking'])"
   ]
  },
  {
   "cell_type": "code",
   "execution_count": 15,
   "metadata": {},
   "outputs": [],
   "source": [
    "framedData['Happiness Score'] = pd.to_numeric(framedData['Happiness Score'])"
   ]
  },
  {
   "cell_type": "code",
   "execution_count": 16,
   "metadata": {},
   "outputs": [],
   "source": [
    "framedData['Corruption Perception Score'] = pd.to_numeric(framedData['Corruption Perception Score'])"
   ]
  },
  {
   "cell_type": "code",
   "execution_count": 17,
   "metadata": {},
   "outputs": [],
   "source": [
    "framedData['CPI Score'] = pd.to_numeric(framedData['CPI Score'])"
   ]
  },
  {
   "cell_type": "code",
   "execution_count": 18,
   "metadata": {},
   "outputs": [],
   "source": [
    "framedData['CPI Ranking'] = pd.to_numeric(framedData['CPI Ranking'])"
   ]
  },
  {
   "cell_type": "code",
   "execution_count": 19,
   "metadata": {},
   "outputs": [
    {
     "data": {
      "image/png": "[encoded data removed]",
      "text/plain": [
       "<Figure size 432x288 with 1 Axes>"
      ]
     },
     "metadata": {
      "needs_background": "light"
     },
     "output_type": "display_data"
    }
   ],
   "source": [
    "plt.scatter(framedData['Corruption Perception Score'], framedData['Happiness Score'], color='orange')\n",
    "plt.title('Happiness Score Vs Corruption Perception', fontsize=14)\n",
    "plt.xlabel('Corruption Perception', fontsize=14)\n",
    "plt.ylabel('Happiness Score', fontsize=14)\n",
    "plt.grid(True)\n",
    "\n",
    "plt.locator_params(axis=\"x\", nbins=6)\n",
    "plt.locator_params(axis=\"y\", nbins=6)\n",
    "\n",
    "plt.show()"
   ]
  },
  {
   "cell_type": "code",
   "execution_count": 20,
   "metadata": {},
   "outputs": [
    {
     "data": {
      "image/png": "[encoded data removed]",
      "text/plain": [
       "<Figure size 432x288 with 1 Axes>"
      ]
     },
     "metadata": {
      "needs_background": "light"
     },
     "output_type": "display_data"
    }
   ],
   "source": [
    "plt.scatter(framedData['CPI Score'], framedData['Happiness Score'], color='red')\n",
    "plt.title('Happiness Score Vs CPI Score', fontsize=14)\n",
    "plt.xlabel('CPI Score', fontsize=14)\n",
    "plt.ylabel('Happiness Score', fontsize=14)\n",
    "plt.grid(True)\n",
    "plt.show()"
   ]
  },
  {
   "cell_type": "code",
   "execution_count": 21,
   "metadata": {},
   "outputs": [
    {
     "data": {
      "image/png": "[encoded data removed]",
      "text/plain": [
       "<Figure size 432x360 with 2 Axes>"
      ]
     },
     "metadata": {
      "needs_background": "light"
     },
     "output_type": "display_data"
    }
   ],
   "source": [
    "#list of column names to keep\n",
    "col_names = ['Happiness Score', 'Corruption Perception Score', 'CPI Score']\n",
    "\n",
    "df = framedData[col_names]\n",
    "\n",
    "#filtering the dataframe to include just the IV's (features) and another with just the DV's (target)\n",
    "\n",
    "features = df.loc[:,df.columns != 'Happiness Score']\n",
    "targets = df.loc[:,df.columns == 'Happiness Score']\n",
    "\n",
    "#creating pairwise correlation of columns using Pearson's R,\n",
    "corr = features.corr(method='pearson') \n",
    "\n",
    "#plotting the correlation coefficients on a seasborn heatmap matrix\n",
    "fig, ax = plt.subplots(figsize=(6,5))\n",
    "sns.heatmap(corr, annot=True, xticklabels=corr.columns, \n",
    "            yticklabels=corr.columns, ax=ax, linewidths=.5, \n",
    "            vmin = -1, vmax=1, center=0)\n",
    "\n",
    "plt.title('Correlation HeatMap')\n",
    "plt.show()"
   ]
  },
  {
   "cell_type": "code",
   "execution_count": 22,
   "metadata": {},
   "outputs": [
    {
     "name": "stdout",
     "output_type": "stream",
     "text": [
      "(147, 2) (147, 1)\n"
     ]
    }
   ],
   "source": [
    "X = framedData[['Corruption Perception Score', 'CPI Score']]\n",
    "y = framedData[\"Happiness Score\"].values.reshape(-1, 1)\n",
    "print(X.shape, y.shape)"
   ]
  },
  {
   "cell_type": "code",
   "execution_count": 23,
   "metadata": {},
   "outputs": [],
   "source": [
    "# Use train_test_split to create training and testing data\n",
    "\n",
    "### BEGIN SOLUTION\n",
    "from sklearn.model_selection import train_test_split\n",
    "\n",
    "X_train, X_test, y_train, y_test = train_test_split(X, y, random_state=42)\n",
    "\n",
    "### END SOLUTION"
   ]
  },
  {
   "cell_type": "code",
   "execution_count": 24,
   "metadata": {},
   "outputs": [
    {
     "name": "stdout",
     "output_type": "stream",
     "text": [
      "R2 Score: 0.49259440256841946\n"
     ]
    }
   ],
   "source": [
    "from sklearn.linear_model import LinearRegression\n",
    "model = LinearRegression()\n",
    "\n",
    "# Fitting our model with all of our features in X\n",
    "model.fit(X_train, y_train)\n",
    "\n",
    "score = model.score(X_train, y_train)\n",
    "print(f\"R2 Score: {score}\")"
   ]
  },
  {
   "cell_type": "code",
   "execution_count": 25,
   "metadata": {},
   "outputs": [],
   "source": [
    "# Create the model using LinearRegression\n",
    "\n",
    "### BEGIN SOLUTION\n",
    "from sklearn.linear_model import LinearRegression\n",
    "model = LinearRegression()\n",
    "### END SOLUTION"
   ]
  },
  {
   "cell_type": "code",
   "execution_count": 26,
   "metadata": {},
   "outputs": [
    {
     "name": "stdout",
     "output_type": "stream",
     "text": [
      "Training R2 Score: 0.49259440256841946\n",
      "Testing R2 Score: 0.5127842213926037\n"
     ]
    }
   ],
   "source": [
    "# Fit the model to the training data and calculate the scores for the training and testing data\n",
    "\n",
    "### BEGIN SOLUTION\n",
    "model.fit(X_train, y_train)\n",
    "training_score = model.score(X_train, y_train)\n",
    "testing_score = model.score(X_test, y_test)\n",
    "\n",
    "### END SOLUTION \n",
    "\n",
    "print(f\"Training R2 Score: {training_score}\")\n",
    "print(f\"Testing R2 Score: {testing_score}\")"
   ]
  },
  {
   "cell_type": "code",
   "execution_count": 27,
   "metadata": {},
   "outputs": [
    {
     "data": {
      "text/plain": [
       "Text(0.5, 1.0, 'Residual Plot')"
      ]
     },
     "execution_count": 27,
     "metadata": {},
     "output_type": "execute_result"
    },
    {
     "data": {
      "image/png": "[encoded data removed]",
      "text/plain": [
       "<Figure size 432x288 with 1 Axes>"
      ]
     },
     "metadata": {
      "needs_background": "light"
     },
     "output_type": "display_data"
    }
   ],
   "source": [
    "# Plot the Residuals for the Training and Testing data\n",
    "\n",
    "### BEGIN SOLUTION\n",
    "plt.scatter(model.predict(X_train), model.predict(X_train) - y_train, c=\"blue\", label=\"Training Data\")\n",
    "plt.scatter(model.predict(X_test), model.predict(X_test) - y_test, c=\"orange\", label=\"Testing Data\")\n",
    "plt.legend()\n",
    "plt.hlines(y=0, xmin=y.min(), xmax=y.max())\n",
    "plt.title(\"Residual Plot\")\n",
    "### END SOLUTION"
   ]
  },
  {
   "cell_type": "code",
   "execution_count": 29,
   "metadata": {},
   "outputs": [
    {
     "name": "stdout",
     "output_type": "stream",
     "text": [
      "(147, 2)\n"
     ]
    }
   ],
   "source": [
    "from sklearn.datasets import make_regression\n",
    "\n",
    "n_features = 2\n",
    "X_train, y_train = make_regression(n_samples=147, n_features=n_features, \n",
    "                       n_informative=n_features, random_state=42, \n",
    "                       noise=0.5, bias=100.0)\n",
    "print(X_train.shape)"
   ]
  },
  {
   "cell_type": "code",
   "execution_count": 31,
   "metadata": {},
   "outputs": [
    {
     "data": {
      "image/png": "[encoded data removed]",
      "text/plain": [
       "<Figure size 1080x144 with 2 Axes>"
      ]
     },
     "metadata": {
      "needs_background": "light"
     },
     "output_type": "display_data"
    }
   ],
   "source": [
    "sample_df1 = framedData[['Corruption Perception Score', 'CPI Score']]\n",
    "plt.figure(figsize=(15, 2))\n",
    "\n",
    "#function for plotting stripplots given a dataframe\n",
    "def stripplot_these(df):\n",
    "    for idx, name in enumerate(df.columns):\n",
    "        n = idx + 1\n",
    "        plt.subplot(1,3,n)\n",
    "        sns.stripplot(x=name, data=df, jitter=0.15, orient= 'h', alpha=.4, color = 'darkblue')\n",
    "    plt.tight_layout()\n",
    "    plt.show()\n",
    "\n",
    "stripplot_these(sample_df1)"
   ]
  },
  {
   "cell_type": "code",
   "execution_count": null,
   "metadata": {},
   "outputs": [],
   "source": []
  }
 ],
 "metadata": {
  "kernelspec": {
   "display_name": "Python 3",
   "language": "python",
   "name": "python3"
  },
  "language_info": {
   "codemirror_mode": {
    "name": "ipython",
    "version": 3
   },
   "file_extension": ".py",
   "mimetype": "text/x-python",
   "name": "python",
   "nbconvert_exporter": "python",
   "pygments_lexer": "ipython3",
   "version": "3.6.5"
  }
 },
 "nbformat": 4,
 "nbformat_minor": 4
}
