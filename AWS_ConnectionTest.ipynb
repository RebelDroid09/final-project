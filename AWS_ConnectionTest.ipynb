{
 "cells": [
  {
   "cell_type": "code",
   "execution_count": 53,
   "metadata": {},
   "outputs": [],
   "source": [
    "import config\n",
    "import psycopg2\n",
    "import pandas as pd\n",
    "import numpy as np\n",
    "import matplotlib.pyplot as plt"
   ]
  },
  {
   "cell_type": "code",
   "execution_count": 54,
   "metadata": {},
   "outputs": [],
   "source": [
    "conn = psycopg2.connect(\n",
    "    host=config.HOST,\n",
    "    database=config.DATABASE,\n",
    "    user=config.USER,\n",
    "    password=config.PASSWORD,\n",
    "    port=config.PORT)"
   ]
  },
  {
   "cell_type": "code",
   "execution_count": 55,
   "metadata": {},
   "outputs": [
    {
     "name": "stdout",
     "output_type": "stream",
     "text": [
      "PostgreSQL database version:\n"
     ]
    }
   ],
   "source": [
    "cur = conn.cursor()\n",
    "\n",
    "print('PostgreSQL database version:')\n",
    "cur.execute('SELECT version()')"
   ]
  },
  {
   "cell_type": "code",
   "execution_count": 56,
   "metadata": {},
   "outputs": [
    {
     "name": "stdout",
     "output_type": "stream",
     "text": [
      "('PostgreSQL 12.5 on x86_64-pc-linux-gnu, compiled by gcc (GCC) 4.8.3 20140911 (Red Hat 4.8.3-9), 64-bit',)\n"
     ]
    }
   ],
   "source": [
    "db_version = cur.fetchone()\n",
    "print(db_version)"
   ]
  },
  {
   "cell_type": "code",
   "execution_count": 57,
   "metadata": {},
   "outputs": [],
   "source": [
    "sqlQuery = 'SELECT d.ranking, d.countryorregion, d.score, d.perceptionofcorruption, cpi.cpi_score, cpi.rank FROM data_2019 as d INNER JOIN \"countryCPI\" as cpi ON d.countryorregion = cpi.country WHERE cpi.year = 2019'"
   ]
  },
  {
   "cell_type": "code",
   "execution_count": 58,
   "metadata": {},
   "outputs": [],
   "source": [
    "cur.execute(sqlQuery)"
   ]
  },
  {
   "cell_type": "code",
   "execution_count": 59,
   "metadata": {},
   "outputs": [],
   "source": [
    "data = cur.fetchall()"
   ]
  },
  {
   "cell_type": "code",
   "execution_count": 60,
   "metadata": {},
   "outputs": [],
   "source": [
    "framedData = pd.DataFrame(np.array(data))"
   ]
  },
  {
   "cell_type": "code",
   "execution_count": 61,
   "metadata": {},
   "outputs": [],
   "source": [
    "conn.close()"
   ]
  },
  {
   "cell_type": "code",
   "execution_count": 72,
   "metadata": {},
   "outputs": [
    {
     "name": "stdout",
     "output_type": "stream",
     "text": [
      "    Happiness Ranking      Country Happiness Score  \\\n",
      "0                   2      Denmark             7.6   \n",
      "1                   8  New Zealand           7.307   \n",
      "2                   1      Finland           7.769   \n",
      "3                  34    Singapore           6.262   \n",
      "4                   7       Sweden           7.343   \n",
      "..                ...          ...             ...   \n",
      "142               108    Venezuela           4.707   \n",
      "143               151        Yemen            3.38   \n",
      "144               149        Syria           3.462   \n",
      "145               112      Somalia           4.668   \n",
      "146               156  South Sudan           2.853   \n",
      "\n",
      "    Corruption Perception Score CPI Score CPI Ranking  \n",
      "0                          0.41        87           1  \n",
      "1                          0.38        87           1  \n",
      "2                         0.393        86           3  \n",
      "3                         0.453        85           4  \n",
      "4                         0.373        85           4  \n",
      "..                          ...       ...         ...  \n",
      "142                       0.047        16         173  \n",
      "143                       0.077        15         177  \n",
      "144                       0.141        13         178  \n",
      "145                        0.27         9         180  \n",
      "146                       0.091        12         179  \n",
      "\n",
      "[147 rows x 6 columns]\n"
     ]
    }
   ],
   "source": [
    "print(framedData)"
   ]
  },
  {
   "cell_type": "code",
   "execution_count": 63,
   "metadata": {},
   "outputs": [],
   "source": [
    "framedData.columns = ['Happiness Ranking', 'Country', 'Happiness Score', 'Corruption Perception Score', 'CPI Score', 'CPI Ranking']"
   ]
  },
  {
   "cell_type": "code",
   "execution_count": 64,
   "metadata": {},
   "outputs": [
    {
     "name": "stdout",
     "output_type": "stream",
     "text": [
      "  Happiness Ranking      Country Happiness Score Corruption Perception Score  \\\n",
      "0                 2      Denmark             7.6                        0.41   \n",
      "1                 8  New Zealand           7.307                        0.38   \n",
      "2                 1      Finland           7.769                       0.393   \n",
      "3                34    Singapore           6.262                       0.453   \n",
      "4                 7       Sweden           7.343                       0.373   \n",
      "\n",
      "  CPI Score CPI Ranking  \n",
      "0        87           1  \n",
      "1        87           1  \n",
      "2        86           3  \n",
      "3        85           4  \n",
      "4        85           4  \n"
     ]
    }
   ],
   "source": [
    "print(framedData.head())"
   ]
  },
  {
   "cell_type": "code",
   "execution_count": 77,
   "metadata": {},
   "outputs": [
    {
     "data": {
      "text/plain": [
       "Happiness Ranking              object\n",
       "Country                        object\n",
       "Happiness Score                object\n",
       "Corruption Perception Score    object\n",
       "CPI Score                      object\n",
       "CPI Ranking                    object\n",
       "dtype: object"
      ]
     },
     "execution_count": 77,
     "metadata": {},
     "output_type": "execute_result"
    }
   ],
   "source": [
    "framedData.dtypes"
   ]
  },
  {
   "cell_type": "code",
   "execution_count": 79,
   "metadata": {},
   "outputs": [],
   "source": [
    "framedData['Happiness Ranking'] = pd.to_numeric(framedData['Happiness Ranking'])"
   ]
  },
  {
   "cell_type": "code",
   "execution_count": 80,
   "metadata": {},
   "outputs": [],
   "source": [
    "framedData['Happiness Score'] = pd.to_numeric(framedData['Happiness Score'])"
   ]
  },
  {
   "cell_type": "code",
   "execution_count": 81,
   "metadata": {},
   "outputs": [],
   "source": [
    "framedData['Corruption Perception Score'] = pd.to_numeric(framedData['Corruption Perception Score'])"
   ]
  },
  {
   "cell_type": "code",
   "execution_count": 82,
   "metadata": {},
   "outputs": [],
   "source": [
    "framedData['CPI Score'] = pd.to_numeric(framedData['CPI Score'])"
   ]
  },
  {
   "cell_type": "code",
   "execution_count": 83,
   "metadata": {},
   "outputs": [],
   "source": [
    "framedData['CPI Ranking'] = pd.to_numeric(framedData['CPI Ranking'])"
   ]
  },
  {
   "cell_type": "code",
   "execution_count": 84,
   "metadata": {},
   "outputs": [
    {
     "data": {
      "image/png": "[encoded data removed]",
      "text/plain": [
       "<Figure size 432x288 with 1 Axes>"
      ]
     },
     "metadata": {
      "needs_background": "light"
     },
     "output_type": "display_data"
    }
   ],
   "source": [
    "plt.scatter(framedData['Corruption Perception Score'], framedData['Happiness Score'], color='orange')\n",
    "plt.title('Happiness Score Vs Corruption Perception', fontsize=14)\n",
    "plt.xlabel('Corruption Perception', fontsize=14)\n",
    "plt.ylabel('Happiness Score', fontsize=14)\n",
    "plt.grid(True)\n",
    "\n",
    "plt.locator_params(axis=\"x\", nbins=6)\n",
    "plt.locator_params(axis=\"y\", nbins=6)\n",
    "\n",
    "plt.show()"
   ]
  },
  {
   "cell_type": "code",
   "execution_count": 86,
   "metadata": {},
   "outputs": [
    {
     "data": {
      "image/png": "[encoded data removed]",
      "text/plain": [
       "<Figure size 432x288 with 1 Axes>"
      ]
     },
     "metadata": {
      "needs_background": "light"
     },
     "output_type": "display_data"
    }
   ],
   "source": [
    "plt.scatter(framedData['CPI Score'], framedData['Happiness Score'], color='red')\n",
    "plt.title('Happiness Score Vs CPI Score', fontsize=14)\n",
    "plt.xlabel('CPI Score', fontsize=14)\n",
    "plt.ylabel('Happiness Score', fontsize=14)\n",
    "plt.grid(True)\n",
    "plt.show()"
   ]
  },
  {
   "cell_type": "code",
   "execution_count": null,
   "metadata": {},
   "outputs": [],
   "source": []
  }
 ],
 "metadata": {
  "kernelspec": {
   "display_name": "Python 3",
   "language": "python",
   "name": "python3"
  },
  "language_info": {
   "codemirror_mode": {
    "name": "ipython",
    "version": 3
   },
   "file_extension": ".py",
   "mimetype": "text/x-python",
   "name": "python",
   "nbconvert_exporter": "python",
   "pygments_lexer": "ipython3",
   "version": "3.6.5"
  }
 },
 "nbformat": 4,
 "nbformat_minor": 4
}
